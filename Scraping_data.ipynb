{
  "cells": [
    {
      "cell_type": "markdown",
      "metadata": {
        "id": "6kvMvG_b7G9Y"
      },
      "source": [
        "# scraping data"
      ]
    },
    {
      "cell_type": "code",
      "execution_count": 34,
      "metadata": {
        "colab": {
          "base_uri": "https://localhost:8080/"
        },
        "id": "jbEXLWr37CzJ",
        "outputId": "ab3ac266-3176-46ca-f6fe-2319f876f322"
      },
      "outputs": [
        {
          "output_type": "stream",
          "name": "stdout",
          "text": [
            "Requirement already satisfied: google-play-scraper in /usr/local/lib/python3.11/dist-packages (1.2.7)\n"
          ]
        }
      ],
      "source": [
        "!pip install google-play-scraper"
      ]
    },
    {
      "cell_type": "markdown",
      "source": [
        "# Impor paket yang diperlukan"
      ],
      "metadata": {
        "id": "09A3iY6Bd8n-"
      }
    },
    {
      "cell_type": "code",
      "execution_count": 35,
      "metadata": {
        "id": "0J_if0ci7Rw8"
      },
      "outputs": [],
      "source": [
        "from google_play_scraper import app\n",
        "from google_play_scraper import Sort, reviews\n",
        "import pandas as pd\n",
        "import numpy as np"
      ]
    },
    {
      "cell_type": "markdown",
      "source": [
        "# Scrapping data"
      ],
      "metadata": {
        "id": "L8e-BN9OYzpn"
      }
    },
    {
      "cell_type": "code",
      "execution_count": 36,
      "metadata": {
        "id": "1P9PjK907U_r"
      },
      "outputs": [],
      "source": [
        "result, _ = reviews(\n",
        "    'com.spotify.music',\n",
        "    lang='id',\n",
        "    country='id',\n",
        "    sort=Sort.NEWEST,\n",
        "    count=12000\n",
        ")\n",
        "\n",
        "# Konversi hasil ke DataFrame pandas\n",
        "df_reviews = pd.DataFrame(result)\n"
      ]
    },
    {
      "cell_type": "code",
      "execution_count": 37,
      "metadata": {
        "id": "ZvIVYe127iIL"
      },
      "outputs": [],
      "source": [
        "df_result = df_reviews[['userName','score','content']]"
      ]
    },
    {
      "cell_type": "markdown",
      "source": [
        "# Mengecek missing value dan duplikat value"
      ],
      "metadata": {
        "id": "1YINs1sbY7uP"
      }
    },
    {
      "cell_type": "code",
      "execution_count": 38,
      "metadata": {
        "colab": {
          "base_uri": "https://localhost:8080/",
          "height": 178
        },
        "id": "hmie8EsV-YLX",
        "outputId": "9a4c2213-ab9e-40af-ae1d-ac8d77a8613b"
      },
      "outputs": [
        {
          "output_type": "execute_result",
          "data": {
            "text/plain": [
              "userName    0\n",
              "score       0\n",
              "content     0\n",
              "dtype: int64"
            ],
            "text/html": [
              "<div>\n",
              "<style scoped>\n",
              "    .dataframe tbody tr th:only-of-type {\n",
              "        vertical-align: middle;\n",
              "    }\n",
              "\n",
              "    .dataframe tbody tr th {\n",
              "        vertical-align: top;\n",
              "    }\n",
              "\n",
              "    .dataframe thead th {\n",
              "        text-align: right;\n",
              "    }\n",
              "</style>\n",
              "<table border=\"1\" class=\"dataframe\">\n",
              "  <thead>\n",
              "    <tr style=\"text-align: right;\">\n",
              "      <th></th>\n",
              "      <th>0</th>\n",
              "    </tr>\n",
              "  </thead>\n",
              "  <tbody>\n",
              "    <tr>\n",
              "      <th>userName</th>\n",
              "      <td>0</td>\n",
              "    </tr>\n",
              "    <tr>\n",
              "      <th>score</th>\n",
              "      <td>0</td>\n",
              "    </tr>\n",
              "    <tr>\n",
              "      <th>content</th>\n",
              "      <td>0</td>\n",
              "    </tr>\n",
              "  </tbody>\n",
              "</table>\n",
              "</div><br><label><b>dtype:</b> int64</label>"
            ]
          },
          "metadata": {},
          "execution_count": 38
        }
      ],
      "source": [
        "df_result.isnull().sum()"
      ]
    },
    {
      "cell_type": "code",
      "source": [
        "duplikat = df_reviews.duplicated()\n",
        "\n",
        "# Tampilkan baris yang duplikat\n",
        "print(df_reviews[duplikat])"
      ],
      "metadata": {
        "colab": {
          "base_uri": "https://localhost:8080/"
        },
        "id": "RDb5QS-pYEXv",
        "outputId": "c5345679-dc45-4dd1-9176-5cfec50a7c60"
      },
      "execution_count": 39,
      "outputs": [
        {
          "output_type": "stream",
          "name": "stdout",
          "text": [
            "Empty DataFrame\n",
            "Columns: [reviewId, userName, userImage, content, score, thumbsUpCount, reviewCreatedVersion, at, replyContent, repliedAt, appVersion]\n",
            "Index: []\n"
          ]
        }
      ]
    },
    {
      "cell_type": "markdown",
      "source": [
        "Setelah di cek tidak ada missing value dan duplikat jadi langsung di save di csv untuk bisa dianalisis sentimennya"
      ],
      "metadata": {
        "id": "V_BxsEhqZDeZ"
      }
    },
    {
      "cell_type": "code",
      "source": [
        "df_result.to_csv('hasil_scraping_sotify.csv', index=False)"
      ],
      "metadata": {
        "id": "_X-k-RKQ4w4t"
      },
      "execution_count": 40,
      "outputs": []
    }
  ],
  "metadata": {
    "colab": {
      "provenance": [],
      "toc_visible": true
    },
    "kernelspec": {
      "display_name": "Python 3",
      "name": "python3"
    },
    "language_info": {
      "name": "python"
    }
  },
  "nbformat": 4,
  "nbformat_minor": 0
}